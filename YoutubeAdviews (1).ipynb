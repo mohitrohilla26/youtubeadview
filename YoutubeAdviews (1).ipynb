{
  "nbformat": 4,
  "nbformat_minor": 0,
  "metadata": {
    "colab": {
      "name": "YoutubeAdviews.ipynb",
      "provenance": [],
      "collapsed_sections": []
    },
    "kernelspec": {
      "name": "python3",
      "display_name": "Python 3"
    },
    "language_info": {
      "name": "python"
    }
  },
  "cells": [
    {
      "cell_type": "markdown",
      "metadata": {
        "id": "H6D5w8n8kUly"
      },
      "source": [
        "Import the libraries and check the shape"
      ]
    },
    {
      "cell_type": "code",
      "metadata": {
        "id": "uAPSFxxVkdRN"
      },
      "source": [
        "import numpy as np\n",
        "import pandas as pd\n",
        "import matplotlib.cm as cm\n",
        "import matplotlib.pyplot as plt\n",
        "\n",
        "# Importing data\n",
        "path = \"\"\n",
        "data_train = pd.read_csv(path + \"train.csv\")\n",
        "data_train.head()"
      ],
      "execution_count": null,
      "outputs": []
    },
    {
      "cell_type": "code",
      "metadata": {
        "id": "_jdJiEeA-HHB"
      },
      "source": [
        "data_train.shape  "
      ],
      "execution_count": null,
      "outputs": []
    },
    {
      "cell_type": "markdown",
      "metadata": {
        "id": "6osrtHWtk_nS"
      },
      "source": [
        "Visualise the data using plot function"
      ]
    },
    {
      "cell_type": "code",
      "metadata": {
        "id": "e9TxrMWgsPSE"
      },
      "source": [
        "# Visualization\n",
        "# Individual Plots\n",
        "\n",
        "plt.hist(data_train[\"category\"])\n",
        "plt.show()\n",
        "plt.plot(data_train[\"adview\"])\n",
        "plt.show()\n"
      ],
      "execution_count": null,
      "outputs": []
    },
    {
      "cell_type": "code",
      "metadata": {
        "id": "8ny5_2uQlOLz"
      },
      "source": [
        ""
      ],
      "execution_count": null,
      "outputs": []
    },
    {
      "cell_type": "code",
      "metadata": {
        "id": "cjv8cDFisQSF",
        "outputId": "0ae12f81-fd47-4aeb-bec7-ba79e72dba4f",
        "colab": {
          "base_uri": "https://localhost:8080/",
          "height": 182
        }
      },
      "source": [
        "# Remove videos with adview greater than 2000000 as outlier\n",
        "data_train = data_train[data_train[\"adview\"] <2000000]"
      ],
      "execution_count": null,
      "outputs": [
        {
          "output_type": "error",
          "ename": "NameError",
          "evalue": "ignored",
          "traceback": [
            "\u001b[0;31m---------------------------------------------------------------------------\u001b[0m",
            "\u001b[0;31mNameError\u001b[0m                                 Traceback (most recent call last)",
            "\u001b[0;32m<ipython-input-1-71cad6d80c09>\u001b[0m in \u001b[0;36m<module>\u001b[0;34m()\u001b[0m\n\u001b[1;32m      1\u001b[0m \u001b[0;31m# Remove videos with adview greater than 2000000 as outlier\u001b[0m\u001b[0;34m\u001b[0m\u001b[0;34m\u001b[0m\u001b[0;34m\u001b[0m\u001b[0m\n\u001b[0;32m----> 2\u001b[0;31m \u001b[0mdata_train\u001b[0m \u001b[0;34m=\u001b[0m \u001b[0mdata_train\u001b[0m\u001b[0;34m[\u001b[0m\u001b[0mdata_train\u001b[0m\u001b[0;34m[\u001b[0m\u001b[0;34m\"adview\"\u001b[0m\u001b[0;34m]\u001b[0m \u001b[0;34m<\u001b[0m\u001b[0;36m2000000\u001b[0m\u001b[0;34m]\u001b[0m\u001b[0;34m\u001b[0m\u001b[0;34m\u001b[0m\u001b[0m\n\u001b[0m",
            "\u001b[0;31mNameError\u001b[0m: name 'data_train' is not defined"
          ]
        }
      ]
    },
    {
      "cell_type": "code",
      "metadata": {
        "id": "E3c1757xsYuJ"
      },
      "source": [
        "# Heatmap\n",
        "import seaborn as sns\n",
        "\n",
        "f, ax = plt.subplots(figsize=(10, 8))\n",
        "corr = data_train.corr()\n",
        "sns.heatmap(corr, mask=np.zeros_like(corr, dtype=np.bool), cmap=sns.diverging_palette(220, 10, as_cmap=True), square=True, ax=ax, annot=True)\n",
        "plt.show()"
      ],
      "execution_count": null,
      "outputs": []
    },
    {
      "cell_type": "markdown",
      "metadata": {
        "id": "XxbD9px3luwu"
      },
      "source": [
        "Removing Missing Values"
      ]
    },
    {
      "cell_type": "code",
      "metadata": {
        "id": "M3bdgr8LlvN1"
      },
      "source": [
        "# Removing character \"F\" present in data\n",
        "data_train=data_train[data_train.views!='F']\n",
        "data_train=data_train[data_train.likes!='F']\n",
        "data_train=data_train[data_train.dislikes!='F']\n",
        "data_train=data_train[data_train.comment!='F']\n",
        "data_train.head()\n"
      ],
      "execution_count": null,
      "outputs": []
    },
    {
      "cell_type": "code",
      "metadata": {
        "id": "bohyYEUEwhew"
      },
      "source": [
        "# Assigning each category a number for Category feature\n",
        "category={'A': 1,'B':2,'C':3,'D':4,'E':5,'F':6,'G':7,'H':8}\n",
        "data_train[\"category\"]=data_train[\"category\"].map(category)\n",
        "data_train.head()"
      ],
      "execution_count": null,
      "outputs": []
    },
    {
      "cell_type": "markdown",
      "metadata": {
        "id": "SsgTJ_oolzE4"
      },
      "source": [
        "Change Attributes to Numerical Values"
      ]
    },
    {
      "cell_type": "code",
      "metadata": {
        "id": "ZoPzblXpl03q"
      },
      "source": [
        "# Convert values to integers for views, likes, comments, dislikes and adview\n",
        "data_train[\"views\"] = pd.to_numeric(data_train[\"views\"])\n",
        "data_train[\"comment\"] = pd.to_numeric(data_train[\"comment\"])\n",
        "data_train[\"likes\"] = pd.to_numeric(data_train[\"likes\"])\n",
        "data_train[\"dislikes\"] = pd.to_numeric(data_train[\"dislikes\"])\n",
        "data_train[\"adview\"]=pd.to_numeric(data_train[\"adview\"])\n",
        "column_vidid=data_train['vidid']"
      ],
      "execution_count": null,
      "outputs": []
    },
    {
      "cell_type": "code",
      "metadata": {
        "id": "uxP92YtrwsvP"
      },
      "source": [
        "# Endoding features like Category, Duration, Vidid\n",
        "from sklearn.preprocessing import LabelEncoder\n",
        "data_train['duration']=LabelEncoder().fit_transform(data_train['duration'])\n",
        "data_train['vidid']=LabelEncoder().fit_transform(data_train['vidid'])\n",
        "data_train['published']=LabelEncoder().fit_transform(data_train['published'])\n",
        "data_train.head()"
      ],
      "execution_count": null,
      "outputs": []
    },
    {
      "cell_type": "code",
      "metadata": {
        "id": "oR4U02mGw0Qy"
      },
      "source": [
        "# Convert Time_in_sec for duration\n",
        "import datetime\n",
        "import time\n",
        "def checki(x):\n",
        "  y= x[2:]\n",
        "  h = ''\n",
        "  m = ''\n",
        "  s = ''\n",
        "  mm = ''\n",
        "  P = ['H','M','S']\n",
        "  for i in y:\n",
        "   if i not in P:\n",
        "    mm+=i\n",
        "   else:\n",
        "    if(i==\"H\"):\n",
        "     h = mm\n",
        "     mm = ''\n",
        "    elif(i == \"M\"):\n",
        "     m = mm\n",
        "     mm = ''\n",
        "    else:\n",
        "     s = mm\n",
        "     mm = ''\n",
        "  if(h==''):\n",
        "   h = '00'\n",
        "  if(m == ''):\n",
        "   m = '00'\n",
        "  if(s==''):\n",
        "   s='00'\n",
        "  bp = h+':'+m+':'+s\n",
        "  return bp\n",
        "train=pd.read_csv(\"train.csv\")\n",
        "mp = pd.read_csv(path + \"train.csv\")[\"duration\"]\n",
        "time = mp.apply(checki)\n",
        "\n",
        "def func_sec(time_string):\n",
        " h, m, s = time_string.split(':')\n",
        " return int(h) * 3600 + int(m) * 60 + int(s)\n",
        "\n",
        "time1=time.apply(func_sec)\n",
        "\n",
        "data_train[\"duration\"]=time1\n",
        "data_train.head()"
      ],
      "execution_count": null,
      "outputs": []
    },
    {
      "cell_type": "markdown",
      "metadata": {
        "id": "t3iF62UpOLhl"
      },
      "source": [
        "Normalise Your Data and Split the Data into Training, Validation and Test Set"
      ]
    },
    {
      "cell_type": "code",
      "metadata": {
        "id": "5mQmZGgKxI9s"
      },
      "source": [
        "# Split Data\n",
        "Y_train = pd.DataFrame(data = data_train.iloc[:, 1].values, columns = ['target'])\n",
        "data_train=data_train.drop([\"adview\"],axis=1)\n",
        "data_train=data_train.drop([\"vidid\"],axis=1)\n",
        "data_train.head()\n"
      ],
      "execution_count": null,
      "outputs": []
    },
    {
      "cell_type": "code",
      "metadata": {
        "id": "eP6t3XdNxJ9u"
      },
      "source": [
        "from sklearn.model_selection import train_test_split\n",
        "X_train, X_test, y_train, y_test = train_test_split(data_train, Y_train, test_size=0.2, random_state=42)\n",
        "X_train.shape"
      ],
      "execution_count": null,
      "outputs": []
    },
    {
      "cell_type": "code",
      "metadata": {
        "id": "erUdNwkyxNDP"
      },
      "source": [
        "# Normalise Data\n",
        "from sklearn.preprocessing import MinMaxScaler\n",
        "scaler = MinMaxScaler()\n",
        "X_train=scaler.fit_transform(X_train)\n",
        "X_test=scaler.fit_transform(X_test)\n"
      ],
      "execution_count": null,
      "outputs": []
    },
    {
      "cell_type": "code",
      "metadata": {
        "id": "YT_11ENP6q5I"
      },
      "source": [
        "X_train.mean()"
      ],
      "execution_count": null,
      "outputs": []
    },
    {
      "cell_type": "markdown",
      "metadata": {
        "id": "AtsftxemO-Zh"
      },
      "source": [
        "Use Different Model for training and get errors"
      ]
    },
    {
      "cell_type": "code",
      "metadata": {
        "id": "oYgc5FhF9bcg"
      },
      "source": [
        "# Evaluation Metrics\n",
        "from sklearn import metrics\n",
        "def print_error(X_test, y_test, model_name):\n",
        " prediction = model_name.predict(X_test)\n",
        " print('Mean Absolute Error:', metrics.mean_absolute_error(y_test, prediction))\n",
        " print('Mean Squared Error:', metrics.mean_squared_error(y_test, prediction))\n",
        " print('Root Mean Squared Error:', np.sqrt(metrics.mean_squared_error(y_test, prediction)))\n"
      ],
      "execution_count": null,
      "outputs": []
    },
    {
      "cell_type": "code",
      "metadata": {
        "id": "_iPI0zBk9hnY",
        "colab": {
          "base_uri": "https://localhost:8080/",
          "height": 217
        },
        "outputId": "09a52188-976c-4a99-bba3-89e02fc685b0"
      },
      "source": [
        "# Linear Regression\n",
        "from sklearn import linear_model\n",
        "linear_regression = linear_model.LinearRegression()\n",
        "linear_regression.fit(X_train, y_train)\n",
        "print_error(X_test,y_test, linear_regression)"
      ],
      "execution_count": null,
      "outputs": [
        {
          "output_type": "error",
          "ename": "NameError",
          "evalue": "ignored",
          "traceback": [
            "\u001b[0;31m---------------------------------------------------------------------------\u001b[0m",
            "\u001b[0;31mNameError\u001b[0m                                 Traceback (most recent call last)",
            "\u001b[0;32m<ipython-input-1-86d418c4a3ac>\u001b[0m in \u001b[0;36m<module>\u001b[0;34m()\u001b[0m\n\u001b[1;32m      2\u001b[0m \u001b[0;32mfrom\u001b[0m \u001b[0msklearn\u001b[0m \u001b[0;32mimport\u001b[0m \u001b[0mlinear_model\u001b[0m\u001b[0;34m\u001b[0m\u001b[0;34m\u001b[0m\u001b[0m\n\u001b[1;32m      3\u001b[0m \u001b[0mlinear_regression\u001b[0m \u001b[0;34m=\u001b[0m \u001b[0mlinear_model\u001b[0m\u001b[0;34m.\u001b[0m\u001b[0mLinearRegression\u001b[0m\u001b[0;34m(\u001b[0m\u001b[0;34m)\u001b[0m\u001b[0;34m\u001b[0m\u001b[0;34m\u001b[0m\u001b[0m\n\u001b[0;32m----> 4\u001b[0;31m \u001b[0mlinear_regression\u001b[0m\u001b[0;34m.\u001b[0m\u001b[0mfit\u001b[0m\u001b[0;34m(\u001b[0m\u001b[0mX_train\u001b[0m\u001b[0;34m,\u001b[0m \u001b[0my_train\u001b[0m\u001b[0;34m)\u001b[0m\u001b[0;34m\u001b[0m\u001b[0;34m\u001b[0m\u001b[0m\n\u001b[0m\u001b[1;32m      5\u001b[0m \u001b[0mprint_error\u001b[0m\u001b[0;34m(\u001b[0m\u001b[0mX_test\u001b[0m\u001b[0;34m,\u001b[0m\u001b[0my_test\u001b[0m\u001b[0;34m,\u001b[0m \u001b[0mlinear_regression\u001b[0m\u001b[0;34m)\u001b[0m\u001b[0;34m\u001b[0m\u001b[0;34m\u001b[0m\u001b[0m\n",
            "\u001b[0;31mNameError\u001b[0m: name 'X_train' is not defined"
          ]
        }
      ]
    },
    {
      "cell_type": "code",
      "metadata": {
        "id": "6ZTDBcwUyvv0"
      },
      "source": [
        "# Support Vector Regressor\n",
        "from sklearn.svm import SVR\n",
        "supportvector_regressor = SVR()\n",
        "supportvector_regressor.fit(X_train,y_train)\n",
        "print_error(X_test,y_test, supportvector_regressor)\n"
      ],
      "execution_count": null,
      "outputs": []
    },
    {
      "cell_type": "code",
      "metadata": {
        "id": "7FvYIX0u932V"
      },
      "source": [
        "# Decision Tree Regressor\n",
        "from sklearn.tree import DecisionTreeRegressor\n",
        "decision_tree = DecisionTreeRegressor()\n",
        "decision_tree.fit(X_train, y_train)\n",
        "print_error(X_test,y_test, decision_tree)\n"
      ],
      "execution_count": null,
      "outputs": []
    },
    {
      "cell_type": "code",
      "metadata": {
        "id": "0Xfk4Tsc9-by"
      },
      "source": [
        "# Random Forest Regressor\n",
        "from sklearn.ensemble import RandomForestRegressor\n",
        "n_estimators = 200\n",
        "max_depth = 25\n",
        "min_samples_split=15\n",
        "min_samples_leaf=2\n",
        "random_forest = RandomForestRegressor(n_estimators = n_estimators, max_depth = max_depth, min_samples_split=min_samples_split)\n",
        "random_forest.fit(X_train,y_train)\n",
        "print_error(X_test,y_test, random_forest)"
      ],
      "execution_count": null,
      "outputs": []
    },
    {
      "cell_type": "markdown",
      "metadata": {
        "id": "26tfoH5GQ81X"
      },
      "source": [
        "Build an Artificial Neural Network and Trained it"
      ]
    },
    {
      "cell_type": "code",
      "metadata": {
        "id": "nMvEfw3NamRW"
      },
      "source": [
        "# Artificial Neural Network\n",
        "import keras\n",
        "from keras.layers import Dense\n",
        "ann = keras.models.Sequential([\n",
        "                                Dense(6, activation=\"relu\",\n",
        "                                input_shape=X_train.shape[1:]),\n",
        "                                Dense(6,activation=\"relu\"),\n",
        "                                Dense(1)\n",
        "                                ])\n",
        "#optimizer=tensorflow.keras.optimizers.Adam()\n",
        "loss=keras.losses.mean_squared_error\n",
        "ann.compile(optimizer=\"Adam\",loss=loss,metrics=[\"mean_squared_error\"])\n",
        "\n",
        "history=ann.fit(X_train,y_train,epochs=100)\n",
        "ann.summary()\n",
        "print(X_test,y_test,ann)\n"
      ],
      "execution_count": null,
      "outputs": []
    },
    {
      "cell_type": "markdown",
      "metadata": {
        "id": "E9q82wW9Rswf"
      },
      "source": [
        "Save the File"
      ]
    },
    {
      "cell_type": "code",
      "metadata": {
        "id": "SqVvAjPmauUx"
      },
      "source": [
        "#Saving Scikitlearn models\n",
        "import joblib\n",
        "joblib.dump(decision_tree, \"decisiontree_youtubeadview.pkl\")\n"
      ],
      "execution_count": null,
      "outputs": []
    },
    {
      "cell_type": "code",
      "metadata": {
        "id": "Gi8gEyfzep81"
      },
      "source": [
        "# Saving Keras Artificial Neural Network model\n",
        "ann.save(\"ann_youtubeadview.h5\")"
      ],
      "execution_count": null,
      "outputs": []
    },
    {
      "cell_type": "markdown",
      "metadata": {
        "id": "YntAqhDOPVTa"
      },
      "source": [
        "Work on Test Data"
      ]
    },
    {
      "cell_type": "code",
      "metadata": {
        "id": "X6Ty6-98swfF"
      },
      "source": [
        "# Importing data\n",
        "path = \"\"\n",
        "data_test = pd.read_csv(path + \"test.csv\")\n",
        "data_test.head()"
      ],
      "execution_count": null,
      "outputs": []
    },
    {
      "cell_type": "code",
      "metadata": {
        "id": "Frx5xnt2ucP7"
      },
      "source": [
        "data_test.shape"
      ],
      "execution_count": null,
      "outputs": []
    },
    {
      "cell_type": "markdown",
      "metadata": {
        "id": "LcBGjVPGS1zO"
      },
      "source": [
        "Normalize the Data"
      ]
    },
    {
      "cell_type": "code",
      "metadata": {
        "id": "JdLCazFAw8im"
      },
      "source": [
        "# Removing character \"F\" present in data\n",
        "data_test=data_test[data_test.views!='F']\n",
        "data_test=data_test[data_test.likes!='F']\n",
        "data_test=data_test[data_test.dislikes!='F']\n",
        "data_test=data_test[data_test.comment!='F']\n",
        "data_test.head()"
      ],
      "execution_count": null,
      "outputs": []
    },
    {
      "cell_type": "code",
      "metadata": {
        "id": "Dn5uQvUlw-Zq"
      },
      "source": [
        "# Assigning each category a number for Category feature\n",
        "category={'A': 1,'B':2,'C':3,'D':4,'E':5,'F':6,'G':7,'H':8}\n",
        "data_test[\"category\"]=data_test[\"category\"].map(category)\n",
        "data_test.head()"
      ],
      "execution_count": null,
      "outputs": []
    },
    {
      "cell_type": "code",
      "metadata": {
        "id": "sHXl7MfMxLIe"
      },
      "source": [
        "# Convert values to integers for views, likes, comments and dislikes\n",
        "data_test[\"views\"] = pd.to_numeric(data_test[\"views\"])\n",
        "data_test[\"comment\"] = pd.to_numeric(data_test[\"comment\"])\n",
        "data_test[\"likes\"] = pd.to_numeric(data_test[\"likes\"])\n",
        "data_test[\"dislikes\"] = pd.to_numeric(data_test[\"dislikes\"])\n",
        "column_vidid=data_test['vidid']"
      ],
      "execution_count": null,
      "outputs": []
    },
    {
      "cell_type": "code",
      "metadata": {
        "id": "scu2pcNgxR1v"
      },
      "source": [
        "# Endoding features like Category, Duration, Vidid\n",
        "from sklearn.preprocessing import LabelEncoder\n",
        "data_test['duration']=LabelEncoder().fit_transform(data_test['duration'])\n",
        "data_test['vidid']=LabelEncoder().fit_transform(data_test['vidid'])\n",
        "data_test['published']=LabelEncoder().fit_transform(data_test['published'])\n",
        "data_test.head()"
      ],
      "execution_count": null,
      "outputs": []
    },
    {
      "cell_type": "code",
      "metadata": {
        "id": "_LD8HLe9xqZf"
      },
      "source": [
        "# Convert Time_in_sec for duration\n",
        "import datetime\n",
        "import time\n",
        "def checki(x):\n",
        "  y= x[2:]\n",
        "  h = ''\n",
        "  m = ''\n",
        "  s = ''\n",
        "  mm = ''\n",
        "  P = ['H','M','S']\n",
        "  for i in y:\n",
        "   if i not in P:\n",
        "    mm+=i\n",
        "   else:\n",
        "    if(i==\"H\"):\n",
        "     h = mm\n",
        "     mm = ''\n",
        "    elif(i == \"M\"):\n",
        "     m = mm\n",
        "     mm = ''\n",
        "    else:\n",
        "     s = mm\n",
        "     mm = ''\n",
        "  if(h==''):\n",
        "   h = '00'\n",
        "  if(m == ''):\n",
        "   m = '00'\n",
        "  if(s==''):\n",
        "   s='00'\n",
        "  bp = h+':'+m+':'+s\n",
        "  return bp\n",
        "test=pd.read_csv(\"test.csv\")\n",
        "mp = pd.read_csv(path + \"test.csv\")[\"duration\"]\n",
        "time = mp.apply(checki)\n",
        "\n",
        "def func_sec(time_string):\n",
        " h, m, s = time_string.split(':')\n",
        " return int(h) * 3600 + int(m) * 60 + int(s)\n",
        "\n",
        "time1=time.apply(func_sec)\n",
        "\n",
        "data_test[\"duration\"]=time1\n",
        "data_test.head()"
      ],
      "execution_count": null,
      "outputs": []
    },
    {
      "cell_type": "markdown",
      "metadata": {
        "id": "WU1ocyp1TjFW"
      },
      "source": [
        "Drop Unwanted Data and Predict the Adviews"
      ]
    },
    {
      "cell_type": "code",
      "metadata": {
        "id": "hiFyTOokdidj"
      },
      "source": [
        "# drop vidid\n",
        "data_test=data_test.drop([\"vidid\"],axis=1)\n",
        "data_test.head()"
      ],
      "execution_count": null,
      "outputs": []
    },
    {
      "cell_type": "markdown",
      "metadata": {
        "id": "KGWNsWd-Trtm"
      },
      "source": [
        "Load your Saved Model"
      ]
    },
    {
      "cell_type": "code",
      "metadata": {
        "id": "hvCI6Wcda8JT"
      },
      "source": [
        "# load the model from disk\n",
        "loaded_model = joblib.load('decisiontree_youtubeadview.pkl')"
      ],
      "execution_count": null,
      "outputs": []
    },
    {
      "cell_type": "code",
      "metadata": {
        "id": "h1k2BBxqFUa7"
      },
      "source": [
        "from sklearn.preprocessing import MinMaxScaler\n",
        "scaler = MinMaxScaler()\n",
        "X_test = data_test\n",
        "X_test=scaler.fit_transform(X_test)"
      ],
      "execution_count": null,
      "outputs": []
    },
    {
      "cell_type": "code",
      "metadata": {
        "id": "4Vh3QjUI5m7J"
      },
      "source": [
        "prediction = loaded_model.predict(X_test)"
      ],
      "execution_count": null,
      "outputs": []
    },
    {
      "cell_type": "code",
      "metadata": {
        "id": "9qbpdhFr51cp"
      },
      "source": [
        "prediction=pd.DataFrame(prediction)\n",
        "prediction.info()"
      ],
      "execution_count": null,
      "outputs": []
    },
    {
      "cell_type": "code",
      "metadata": {
        "id": "qNLC1IPH6O3w"
      },
      "source": [
        "prediction = prediction.rename(columns={0: \"Adview\"})"
      ],
      "execution_count": null,
      "outputs": []
    },
    {
      "cell_type": "code",
      "metadata": {
        "id": "QK5MquZ86WOC"
      },
      "source": [
        "prediction.head()"
      ],
      "execution_count": null,
      "outputs": []
    },
    {
      "cell_type": "markdown",
      "metadata": {
        "id": "FQNxW_1VUH3_"
      },
      "source": [
        "Save file in csv format"
      ]
    },
    {
      "cell_type": "code",
      "metadata": {
        "id": "hfuti7p66duc"
      },
      "source": [
        "prediction.to_csv('predictionadview.csv')"
      ],
      "execution_count": null,
      "outputs": []
    }
  ]
}